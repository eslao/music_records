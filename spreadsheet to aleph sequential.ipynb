{
 "metadata": {
  "name": "spreadsheet to aleph sequential"
 },
 "nbformat": 3,
 "nbformat_minor": 0,
 "worksheets": [
  {
   "cells": [
    {
     "cell_type": "code",
     "collapsed": false,
     "input": "import csv",
     "language": "python",
     "metadata": {},
     "outputs": [],
     "prompt_number": 1
    },
    {
     "cell_type": "code",
     "collapsed": false,
     "input": "#Valid column names in your csv: \"BIB_DOC_ID\", three-digit marc tag (such as \"500\"), or five-digit marc tag with indicators (such as \"50500\")\n#Values in BIB_DOC_ID column can contain but do not require leading zeroes\n#Values in other columns must not include first subfield tag, which is assumed to be \"$$a\" and will be added by script\n#TO DO: handle first subfield more flexibly\n\n#initialize a list to store the records in\nrecord_list = []\n\n#csv.reader(open(FILENAME, 'rU'), quotechar='\"', delimiter = ',')\n\n#read the existing csv\nwith open('theses.csv', 'rU') as csvfile:\n    #sniff to find the format\n    #fileDialect = csv.Sniffer().sniff(csvfile.read(1024))\n    csvfile.seek(0)\n    #create a CSV reader\n    myReader = csv.reader(csvfile, quotechar='\"', delimiter = ',')\n    #read each row\n    for row in myReader:\n        record_list += [row]\n        #do your processing here",
     "language": "python",
     "metadata": {},
     "outputs": [],
     "prompt_number": 2
    },
    {
     "cell_type": "code",
     "collapsed": false,
     "input": "marc_fields = []\nfor record in record_list:\n    if 'BIB_DOC_ID' in record: \n        #print record\n        all_columns = record\n        bibno_position = [i for i, x in enumerate(record_list[0]) if x == 'BIB_DOC_ID']\n        marc_columns = [i for i, x in enumerate(record) if x != 'BIB_DOC_ID']\n        #marc_columns = [i for i, x in enumerate(record)]\n        for position in marc_columns:\n            #print testlist[position]\n            marc_fields += [all_columns[position]]\n        #print marc_columns\n        #print marc_fields\n        \n        \nfor record in record_list:\n    if 'BIB_DOC_ID' not in record: \n        for position in marc_columns:\n            if record[position] != '':\n                #print all_columns[position]\n                print record[bibno_position[0]].zfill(9) + ' ' + all_columns[position].ljust(5, ' ') + '  L $$a' + record[position]\n            #print record[[i for i, x in enumerate(record_list[0]) if x == fieldname][0]].zfill(9) + ' ' + field\n        ",
     "language": "python",
     "metadata": {},
     "outputs": [
      {
       "output_type": "stream",
       "stream": "stdout",
       "text": "000090920 500    L $$a$$aWith thesis statement.\n000090920 70010  L $$aYour mom.\n000091130 500    L $$a$$aDissertation--Rheinischen Friedrich-Wilhelms-Universit_t\n000091205 500    L $$a$$aIn unver_nderter Fassung als Dissertation ... der Universit_t Z\ufffdrich erschienen.\n000091438 500    L $$a$$aThesis--Heidelberg.\n000091438 502    L $$aThis is definitely a thesis.\n000091814 500    L $$a$$aThesis--Hanover.\n000091814 502    L $$aThis is definitely a thesis.\n000091844 500    L $$a$$aThesis--Bonn.\n000091864 500    L $$a$$aDissertation zur Erlangung der Doktorw\ufffdrde von der Philosophischen Fakult_t der Universit_t Freiburg/Schweiz.\n000092184 500    L $$a$$aThesis (Ph. D.)--Universit_t zu K_ln.\n000092345 500    L $$a$$aDissertation.\n000094095 500    L $$a$$aAdded t. p.\n000094095 50500  L $$aTest -- test -- test.\n000096013 500    L $$a$$aVerzeichnis abgeschlossener Dissertationen auf dem Gebiet der Geschichte der Medizin\n000096118 500    L $$a$$aThe bulk of [vol. 2] was included in a thesis ... San Diego State University in spring\n000105669 500    L $$a$$aExtra t. p.\n000105669 502    L $$aThis is definitely a thesis.\n000108087 500    L $$a$$aHabilitationsschrift - W\ufffdrzburg.\n000112508 500    L $$a$$aA journal of interdisciplinary synthesis.\n"
      }
     ],
     "prompt_number": 4
    },
    {
     "cell_type": "code",
     "collapsed": false,
     "input": "",
     "language": "python",
     "metadata": {},
     "outputs": []
    }
   ],
   "metadata": {}
  }
 ]
}